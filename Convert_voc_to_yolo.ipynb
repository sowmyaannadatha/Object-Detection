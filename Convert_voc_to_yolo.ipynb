{
  "nbformat": 4,
  "nbformat_minor": 0,
  "metadata": {
    "colab": {
      "provenance": [],
      "authorship_tag": "ABX9TyNIM3LJIV1oB6ytzjkHKJov",
      "include_colab_link": true
    },
    "kernelspec": {
      "name": "python3",
      "display_name": "Python 3"
    }
  },
  "cells": [
    {
      "cell_type": "markdown",
      "metadata": {
        "id": "view-in-github",
        "colab_type": "text"
      },
      "source": [
        "<a href=\"https://colab.research.google.com/github/sowmyaannadatha/Object-Detection/blob/main/Convert_voc_to_yolo.ipynb\" target=\"_parent\"><img src=\"https://colab.research.google.com/assets/colab-badge.svg\" alt=\"Open In Colab\"/></a>"
      ]
    },
    {
      "cell_type": "code",
      "metadata": {
        "id": "r-eT6FpqJXX8"
      },
      "source": [
        "#import libraries\n",
        "from xml.dom import minidom\n",
        "import os\n",
        "import glob\n",
        "#initiate label dictionary\n",
        "lut={}\n",
        "lut[\"rose\"] =0\n",
        "#lut[\"top\"]       =1\n",
        "#lut[\"bottom\"]    =2\n",
        "#lut[\"bag\"]       =3\n",
        "#lut[\"shoes\"]     =4\n",
        "\n",
        "#convert coordinates to x,y,w,h format\n",
        "def convert_coordinates(size, box):\n",
        "    dw = 1.0/size[0]\n",
        "    dh = 1.0/size[1]\n",
        "    x = (box[0]+box[1])/2.0\n",
        "    y = (box[2]+box[3])/2.0\n",
        "    w = box[1]-box[0]\n",
        "    h = box[3]-box[2]\n",
        "    x = x*dw\n",
        "    w = w*dw\n",
        "    y = y*dh\n",
        "    h = h*dh\n",
        "    return (x,y,w,h)\n",
        "\n",
        "#extracts coordinate information from xml file\n",
        "def convert_xml2yolo( lut ):\n",
        "\n",
        "    for fname in glob.glob(\"/content/annotations*.xml\"):\n",
        "\n",
        "        xmldoc = minidom.parse(fname)\n",
        "\n",
        "        fname_out = (fname[:-4]+'.txt')\n",
        "\n",
        "        with open(fname_out, \"w\") as f:\n",
        "\n",
        "            itemlist = xmldoc.getElementsByTagName('object')\n",
        "            size = xmldoc.getElementsByTagName('size')[0]\n",
        "            width = int((size.getElementsByTagName('width')[0]).firstChild.data)\n",
        "            height = int((size.getElementsByTagName('height')[0]).firstChild.data)\n",
        "\n",
        "            for item in itemlist:\n",
        "                # get class label\n",
        "                classid =  (item.getElementsByTagName('name')[0]).firstChild.data\n",
        "                if classid in lut:\n",
        "                    label_str = str(lut[classid])\n",
        "                else:\n",
        "                    label_str = \"-1\"\n",
        "                    print (\"warning: label '%s' not in look-up table\" % classid)\n",
        "\n",
        "                # get bbox coordinates\n",
        "                xmin = ((item.getElementsByTagName('bndbox')[0]).getElementsByTagName('xmin')[0]).firstChild.data\n",
        "                ymin = ((item.getElementsByTagName('bndbox')[0]).getElementsByTagName('ymin')[0]).firstChild.data\n",
        "                xmax = ((item.getElementsByTagName('bndbox')[0]).getElementsByTagName('xmax')[0]).firstChild.data\n",
        "                ymax = ((item.getElementsByTagName('bndbox')[0]).getElementsByTagName('ymax')[0]).firstChild.data\n",
        "                b = (float(xmin), float(xmax), float(ymin), float(ymax))\n",
        "                bb = convert_coordinates((width,height), b)\n",
        "                #print(bb)\n",
        "\n",
        "                f.write(label_str + \" \" + \" \".join([(\"%.6f\" % a) for a in bb]) + '\\n')\n",
        "\n",
        "        print (\"wrote %s\" % fname_out)\n",
        "\n",
        "\n",
        "#main function converts xml2yolo format\n",
        "def main():\n",
        "    convert_xml2yolo( lut )\n",
        "\n",
        "\n",
        "if __name__ == '__main__':\n",
        "    main()"
      ],
      "execution_count": null,
      "outputs": []
    }
  ]
}